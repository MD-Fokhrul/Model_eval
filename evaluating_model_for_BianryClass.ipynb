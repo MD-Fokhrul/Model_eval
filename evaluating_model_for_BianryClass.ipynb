{
 "cells": [
  {
   "cell_type": "code",
   "execution_count": 1,
   "metadata": {},
   "outputs": [],
   "source": [
    "import numpy as np"
   ]
  },
  {
   "cell_type": "code",
   "execution_count": 2,
   "metadata": {},
   "outputs": [
    {
     "name": "stdout",
     "output_type": "stream",
     "text": [
      "[0.50974324 0.46852483 0.5714878  0.50177024 0.91801572 0.58728217\n",
      " 0.04006752 0.30291575 0.32742556 0.75614643 0.52769562 0.56373624\n",
      " 0.92014037 0.19695653 0.66620801 0.73438406 0.3846498  0.05415937\n",
      " 0.09970963 0.44444495 0.85769863 0.0732939  0.89813908 0.27225677\n",
      " 0.1708468  0.25726837 0.36030499 0.30559609 0.72880011 0.21263446\n",
      " 0.59979605 0.24490429 0.31207268 0.61880361 0.94331463 0.71675291\n",
      " 0.49578941 0.80083552 0.00738252 0.3092269  0.85792754 0.72460313\n",
      " 0.8285022  0.46618992 0.94435857 0.11366539 0.08695595 0.11888378\n",
      " 0.59204178 0.57842106 0.23301574 0.71968401 0.07691193 0.33088148\n",
      " 0.54572316 0.93552907 0.15261726 0.18791182 0.34762605 0.33860869\n",
      " 0.7278228  0.9593475  0.97695552 0.65566062 0.27724186 0.47652687\n",
      " 0.30123151 0.99003856 0.15993847 0.76510285 0.00320118 0.87232839\n",
      " 0.03006073 0.30403913 0.09631777 0.41610191 0.71173774 0.4821811\n",
      " 0.4505473  0.02006065 0.02223124 0.10708217 0.42372856 0.79519481\n",
      " 0.80844663 0.94398273 0.097609   0.94690671 0.74806051 0.77329905\n",
      " 0.64567178 0.02268775 0.92992815 0.57955611 0.89288664 0.73505076\n",
      " 0.36996116 0.71970178 0.2924891  0.72168254]\n"
     ]
    }
   ],
   "source": [
    "\n",
    "y_pred = np.random.random((100,))\n",
    "#help() \n",
    "print(y_pred)\n",
    "y = np.random.random((100,))"
   ]
  },
  {
   "cell_type": "code",
   "execution_count": 3,
   "metadata": {},
   "outputs": [
    {
     "name": "stdout",
     "output_type": "stream",
     "text": [
      "0.5097432414589069\n"
     ]
    }
   ],
   "source": [
    "print(y_pred[0])"
   ]
  },
  {
   "cell_type": "code",
   "execution_count": 4,
   "metadata": {},
   "outputs": [],
   "source": [
    "for i in range(len(y_pred)):\n",
    "    if y_pred[i]>=0.5:\n",
    "        y_pred[i] = int(1)\n",
    "    else:\n",
    "        y_pred[i] = int(0)"
   ]
  },
  {
   "cell_type": "code",
   "execution_count": 5,
   "metadata": {},
   "outputs": [],
   "source": [
    "for i in range(len(y)):\n",
    "    if y[i]>=0.5:\n",
    "        y[i] = int(1)\n",
    "    else:\n",
    "        y[i] = int(0)"
   ]
  },
  {
   "cell_type": "code",
   "execution_count": 6,
   "metadata": {},
   "outputs": [
    {
     "name": "stdout",
     "output_type": "stream",
     "text": [
      "[1. 0. 1. 1. 1. 1. 0. 0. 0. 1. 1. 1. 1. 0. 1. 1. 0. 0. 0. 0. 1. 0. 1. 0.\n",
      " 0. 0. 0. 0. 1. 0. 1. 0. 0. 1. 1. 1. 0. 1. 0. 0. 1. 1. 1. 0. 1. 0. 0. 0.\n",
      " 1. 1. 0. 1. 0. 0. 1. 1. 0. 0. 0. 0. 1. 1. 1. 1. 0. 0. 0. 1. 0. 1. 0. 1.\n",
      " 0. 0. 0. 0. 1. 0. 0. 0. 0. 0. 0. 1. 1. 1. 0. 1. 1. 1. 1. 0. 1. 1. 1. 1.\n",
      " 0. 1. 0. 1.]\n",
      "[1. 0. 1. 0. 0. 0. 1. 1. 0. 1. 0. 1. 0. 0. 0. 1. 1. 0. 1. 1. 1. 1. 0. 1.\n",
      " 0. 1. 0. 1. 0. 0. 1. 0. 0. 0. 1. 1. 0. 1. 1. 0. 1. 1. 0. 1. 0. 1. 1. 0.\n",
      " 1. 1. 0. 0. 0. 0. 0. 1. 0. 1. 1. 0. 1. 0. 1. 1. 0. 0. 1. 0. 1. 1. 0. 1.\n",
      " 1. 0. 1. 0. 0. 0. 1. 0. 0. 0. 1. 1. 0. 1. 1. 1. 1. 1. 0. 1. 0. 1. 1. 0.\n",
      " 0. 0. 1. 1.]\n"
     ]
    }
   ],
   "source": [
    "print(y_pred)\n",
    "print(y)"
   ]
  },
  {
   "cell_type": "code",
   "execution_count": 7,
   "metadata": {},
   "outputs": [],
   "source": [
    "def confusion_matrix(y, y_pred):\n",
    "    matrix = np.zeros((2,2))\n",
    "    for i in range(len(y)):\n",
    "        if y[i]==1 and y_pred[i]==1:\n",
    "            matrix[0][0] +=1\n",
    "        elif y[i]==0 and y_pred[i]==1:\n",
    "            matrix[0][1] +=1\n",
    "        elif y[i]==1 and y_pred[i]==0:\n",
    "            matrix[1][0] +=1\n",
    "        elif y[i]==0 and y_pred[i]==0:\n",
    "            matrix[1][1] +=1\n",
    "    return matrix"
   ]
  },
  {
   "cell_type": "code",
   "execution_count": 8,
   "metadata": {},
   "outputs": [],
   "source": [
    "cm = confusion_matrix(y, y_pred)"
   ]
  },
  {
   "cell_type": "code",
   "execution_count": 9,
   "metadata": {},
   "outputs": [
    {
     "data": {
      "text/plain": [
       "array([[28., 21.],\n",
       "       [24., 27.]])"
      ]
     },
     "execution_count": 9,
     "metadata": {},
     "output_type": "execute_result"
    }
   ],
   "source": [
    "cm"
   ]
  },
  {
   "cell_type": "code",
   "execution_count": 10,
   "metadata": {},
   "outputs": [],
   "source": [
    "def evaluating_model(cm):\n",
    "    accuracy = (cm[0][0] + cm[1][1])/(cm[0][0] + cm[0][1] + cm[1][0] + cm[1][1])\n",
    "    precision = (cm[0][0])/(cm[0][0] + cm[0][1])\n",
    "    recall = (cm[0][0])/(cm[0][0] + cm[1][0])\n",
    "    f1_score = (2*precision*recall) / (precision + recall)\n",
    "    return {'accuracy': accuracy, 'precision': precision, 'recall': recall, 'f1_score': f1_score}"
   ]
  },
  {
   "cell_type": "code",
   "execution_count": 11,
   "metadata": {},
   "outputs": [],
   "source": [
    "eff = evaluating_model(cm)"
   ]
  },
  {
   "cell_type": "code",
   "execution_count": 12,
   "metadata": {
    "scrolled": true
   },
   "outputs": [
    {
     "data": {
      "text/plain": [
       "{'accuracy': 0.55,\n",
       " 'precision': 0.5714285714285714,\n",
       " 'recall': 0.5384615384615384,\n",
       " 'f1_score': 0.5544554455445544}"
      ]
     },
     "execution_count": 12,
     "metadata": {},
     "output_type": "execute_result"
    }
   ],
   "source": [
    "eff"
   ]
  },
  {
   "cell_type": "code",
   "execution_count": 13,
   "metadata": {},
   "outputs": [],
   "source": [
    "from sklearn.metrics import log_loss # where y_pred are probabilities and y_true are binary class labels\n",
    "loss = log_loss(y, y_pred, eps=1e-15)"
   ]
  },
  {
   "cell_type": "code",
   "execution_count": 14,
   "metadata": {},
   "outputs": [
    {
     "data": {
      "text/plain": [
       "15.54261729317015"
      ]
     },
     "execution_count": 14,
     "metadata": {},
     "output_type": "execute_result"
    }
   ],
   "source": [
    "loss"
   ]
  },
  {
   "cell_type": "code",
   "execution_count": null,
   "metadata": {},
   "outputs": [],
   "source": []
  }
 ],
 "metadata": {
  "kernelspec": {
   "display_name": "Python 3",
   "language": "python",
   "name": "python3"
  },
  "language_info": {
   "codemirror_mode": {
    "name": "ipython",
    "version": 3
   },
   "file_extension": ".py",
   "mimetype": "text/x-python",
   "name": "python",
   "nbconvert_exporter": "python",
   "pygments_lexer": "ipython3",
   "version": "3.7.4"
  }
 },
 "nbformat": 4,
 "nbformat_minor": 2
}
